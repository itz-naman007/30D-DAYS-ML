{
 "cells": [
  {
   "cell_type": "code",
   "execution_count": 2,
   "metadata": {},
   "outputs": [],
   "source": [
    "import pandas as pd\n"
   ]
  },
  {
   "cell_type": "code",
   "execution_count": 3,
   "metadata": {},
   "outputs": [],
   "source": [
    "\n",
    "# Read the .dat file\n",
    "read_file = pd.read_csv('movies.dat', sep='::', engine='python', encoding='ISO-8859-1', header=None)\n",
    "movies_df = read_file.columns = ['movieId', 'title', 'genres']\n"
   ]
  },
  {
   "cell_type": "code",
   "execution_count": 4,
   "metadata": {},
   "outputs": [],
   "source": [
    "read_file.to_csv('movies.csv', index=False)\n"
   ]
  },
  {
   "cell_type": "code",
   "execution_count": 5,
   "metadata": {},
   "outputs": [],
   "source": [
    "ratings_df1 = pd.read_csv(\n",
    "    'ratings.dat',\n",
    "    sep='::',\n",
    "    engine='python',\n",
    "    header=None,\n",
    "    encoding='ISO-8859-1'\n",
    ")\n",
    "ratings_df1_df = ratings_df1.columns = ['userId', 'movieId', 'rating', 'timestamp']\n"
   ]
  },
  {
   "cell_type": "code",
   "execution_count": 6,
   "metadata": {},
   "outputs": [],
   "source": [
    "ratings_df1.to_csv('rating.csv', index=False)\n"
   ]
  },
  {
   "cell_type": "code",
   "execution_count": 7,
   "metadata": {},
   "outputs": [],
   "source": [
    "df1 = pd.read_csv(\"movies.csv\")"
   ]
  },
  {
   "cell_type": "code",
   "execution_count": 8,
   "metadata": {},
   "outputs": [],
   "source": [
    "df2= pd.read_csv(\"rating.csv\")"
   ]
  },
  {
   "cell_type": "code",
   "execution_count": 9,
   "metadata": {},
   "outputs": [
    {
     "name": "stdout",
     "output_type": "stream",
     "text": [
      "<class 'pandas.core.frame.DataFrame'>\n",
      "RangeIndex: 3883 entries, 0 to 3882\n",
      "Data columns (total 3 columns):\n",
      " #   Column   Non-Null Count  Dtype \n",
      "---  ------   --------------  ----- \n",
      " 0   movieId  3883 non-null   int64 \n",
      " 1   title    3883 non-null   object\n",
      " 2   genres   3883 non-null   object\n",
      "dtypes: int64(1), object(2)\n",
      "memory usage: 91.1+ KB\n"
     ]
    }
   ],
   "source": [
    "df1.info()"
   ]
  },
  {
   "cell_type": "code",
   "execution_count": 10,
   "metadata": {},
   "outputs": [
    {
     "name": "stdout",
     "output_type": "stream",
     "text": [
      "<class 'pandas.core.frame.DataFrame'>\n",
      "RangeIndex: 1000209 entries, 0 to 1000208\n",
      "Data columns (total 4 columns):\n",
      " #   Column     Non-Null Count    Dtype\n",
      "---  ------     --------------    -----\n",
      " 0   userId     1000209 non-null  int64\n",
      " 1   movieId    1000209 non-null  int64\n",
      " 2   rating     1000209 non-null  int64\n",
      " 3   timestamp  1000209 non-null  int64\n",
      "dtypes: int64(4)\n",
      "memory usage: 30.5 MB\n"
     ]
    }
   ],
   "source": [
    "df2.info()"
   ]
  },
  {
   "cell_type": "code",
   "execution_count": 11,
   "metadata": {},
   "outputs": [
    {
     "name": "stdout",
     "output_type": "stream",
     "text": [
      "   userId  movieId  rating           timestamp\n",
      "0       1     1193       5 2000-12-31 22:12:40\n",
      "1       1      661       3 2000-12-31 22:35:09\n",
      "2       1      914       3 2000-12-31 22:32:48\n",
      "3       1     3408       4 2000-12-31 22:04:35\n",
      "4       1     2355       5 2001-01-06 23:38:11\n"
     ]
    }
   ],
   "source": [
    "from datetime import datetime\n",
    "\n",
    "# Convert Unix timestamp to datetime\n",
    "df2['timestamp'] = pd.to_datetime(df2['timestamp'], unit='s')\n",
    "\n",
    "print(df2.head())"
   ]
  },
  {
   "cell_type": "code",
   "execution_count": 12,
   "metadata": {},
   "outputs": [],
   "source": [
    "df = pd.merge(df1, df2, on='movieId')\n"
   ]
  },
  {
   "cell_type": "code",
   "execution_count": 13,
   "metadata": {},
   "outputs": [],
   "source": [
    "df.to_csv('ni.csv',index=False)"
   ]
  },
  {
   "cell_type": "code",
   "execution_count": 14,
   "metadata": {},
   "outputs": [
    {
     "data": {
      "text/html": [
       "<div>\n",
       "<style scoped>\n",
       "    .dataframe tbody tr th:only-of-type {\n",
       "        vertical-align: middle;\n",
       "    }\n",
       "\n",
       "    .dataframe tbody tr th {\n",
       "        vertical-align: top;\n",
       "    }\n",
       "\n",
       "    .dataframe thead th {\n",
       "        text-align: right;\n",
       "    }\n",
       "</style>\n",
       "<table border=\"1\" class=\"dataframe\">\n",
       "  <thead>\n",
       "    <tr style=\"text-align: right;\">\n",
       "      <th></th>\n",
       "      <th>movieId</th>\n",
       "      <th>title</th>\n",
       "      <th>genres</th>\n",
       "      <th>userId</th>\n",
       "      <th>rating</th>\n",
       "      <th>timestamp</th>\n",
       "    </tr>\n",
       "  </thead>\n",
       "  <tbody>\n",
       "    <tr>\n",
       "      <th>0</th>\n",
       "      <td>1</td>\n",
       "      <td>Toy Story (1995)</td>\n",
       "      <td>Animation|Children's|Comedy</td>\n",
       "      <td>1</td>\n",
       "      <td>5</td>\n",
       "      <td>2001-01-06 23:37:48</td>\n",
       "    </tr>\n",
       "    <tr>\n",
       "      <th>1</th>\n",
       "      <td>1</td>\n",
       "      <td>Toy Story (1995)</td>\n",
       "      <td>Animation|Children's|Comedy</td>\n",
       "      <td>6</td>\n",
       "      <td>4</td>\n",
       "      <td>2000-12-31 04:30:08</td>\n",
       "    </tr>\n",
       "    <tr>\n",
       "      <th>2</th>\n",
       "      <td>1</td>\n",
       "      <td>Toy Story (1995)</td>\n",
       "      <td>Animation|Children's|Comedy</td>\n",
       "      <td>8</td>\n",
       "      <td>4</td>\n",
       "      <td>2000-12-31 03:31:36</td>\n",
       "    </tr>\n",
       "    <tr>\n",
       "      <th>3</th>\n",
       "      <td>1</td>\n",
       "      <td>Toy Story (1995)</td>\n",
       "      <td>Animation|Children's|Comedy</td>\n",
       "      <td>9</td>\n",
       "      <td>5</td>\n",
       "      <td>2000-12-31 01:25:52</td>\n",
       "    </tr>\n",
       "    <tr>\n",
       "      <th>4</th>\n",
       "      <td>1</td>\n",
       "      <td>Toy Story (1995)</td>\n",
       "      <td>Animation|Children's|Comedy</td>\n",
       "      <td>10</td>\n",
       "      <td>5</td>\n",
       "      <td>2000-12-31 01:34:34</td>\n",
       "    </tr>\n",
       "  </tbody>\n",
       "</table>\n",
       "</div>"
      ],
      "text/plain": [
       "   movieId             title                       genres  userId  rating  \\\n",
       "0        1  Toy Story (1995)  Animation|Children's|Comedy       1       5   \n",
       "1        1  Toy Story (1995)  Animation|Children's|Comedy       6       4   \n",
       "2        1  Toy Story (1995)  Animation|Children's|Comedy       8       4   \n",
       "3        1  Toy Story (1995)  Animation|Children's|Comedy       9       5   \n",
       "4        1  Toy Story (1995)  Animation|Children's|Comedy      10       5   \n",
       "\n",
       "            timestamp  \n",
       "0 2001-01-06 23:37:48  \n",
       "1 2000-12-31 04:30:08  \n",
       "2 2000-12-31 03:31:36  \n",
       "3 2000-12-31 01:25:52  \n",
       "4 2000-12-31 01:34:34  "
      ]
     },
     "execution_count": 14,
     "metadata": {},
     "output_type": "execute_result"
    }
   ],
   "source": [
    "df.head()"
   ]
  },
  {
   "cell_type": "code",
   "execution_count": 15,
   "metadata": {},
   "outputs": [
    {
     "name": "stdout",
     "output_type": "stream",
     "text": [
      "<class 'pandas.core.frame.DataFrame'>\n",
      "RangeIndex: 1000209 entries, 0 to 1000208\n",
      "Data columns (total 6 columns):\n",
      " #   Column     Non-Null Count    Dtype         \n",
      "---  ------     --------------    -----         \n",
      " 0   movieId    1000209 non-null  int64         \n",
      " 1   title      1000209 non-null  object        \n",
      " 2   genres     1000209 non-null  object        \n",
      " 3   userId     1000209 non-null  int64         \n",
      " 4   rating     1000209 non-null  int64         \n",
      " 5   timestamp  1000209 non-null  datetime64[ns]\n",
      "dtypes: datetime64[ns](1), int64(3), object(2)\n",
      "memory usage: 45.8+ MB\n"
     ]
    }
   ],
   "source": [
    "df.info()"
   ]
  },
  {
   "cell_type": "code",
   "execution_count": 16,
   "metadata": {},
   "outputs": [],
   "source": [
    "import pandas as pd\n",
    "from sklearn.feature_extraction.text import TfidfVectorizer\n",
    "from sklearn.metrics.pairwise import cosine_similarity\n"
   ]
  },
  {
   "cell_type": "code",
   "execution_count": 17,
   "metadata": {},
   "outputs": [],
   "source": [
    "\n",
    "# Drop duplicate movies (keep only one row per unique title)\n",
    "df_movies = df[['movieId', 'title', 'genres']].drop_duplicates(subset='title').reset_index(drop=True)\n"
   ]
  },
  {
   "cell_type": "code",
   "execution_count": 18,
   "metadata": {},
   "outputs": [],
   "source": [
    "\n",
    "# Clean the genres column (replace '|' with space for TF-IDF)\n",
    "df_movies['genres'] = df_movies['genres'].str.replace('|', ' ', regex=False)\n"
   ]
  },
  {
   "cell_type": "code",
   "execution_count": 19,
   "metadata": {},
   "outputs": [],
   "source": [
    "\n",
    "# TF-IDF Vectorization\n",
    "tfidf = TfidfVectorizer(stop_words='english')\n",
    "tfidf_matrix = tfidf.fit_transform(df_movies['genres'])\n"
   ]
  },
  {
   "cell_type": "code",
   "execution_count": 20,
   "metadata": {},
   "outputs": [],
   "source": [
    "\n",
    "# Compute cosine similarity matrix\n",
    "cosine_sim = cosine_similarity(tfidf_matrix, tfidf_matrix)\n"
   ]
  },
  {
   "cell_type": "code",
   "execution_count": 21,
   "metadata": {},
   "outputs": [],
   "source": [
    "\n",
    "# Map movie titles to DataFrame index\n",
    "indices = pd.Series(df_movies.index, index=df_movies['title'].str.strip())\n"
   ]
  },
  {
   "cell_type": "code",
   "execution_count": 24,
   "metadata": {},
   "outputs": [],
   "source": [
    "\n",
    "# Recommendation function\n",
    "def content_recommend(title, cosine_sim=cosine_sim):\n",
    "    title = title.strip()\n",
    "    if title not in indices:\n",
    "        return f\"Title '{title}' not found in the dataset.\"\n",
    "\n",
    "    idx = indices[title]\n",
    "    sim_scores = list(enumerate(cosine_sim[idx]))\n",
    "    sim_scores = sorted(sim_scores, key=lambda x: x[1], reverse=True)[1:100]\n",
    "    movie_indices = [i[0] for i in sim_scores]\n",
    "    return df_movies['title'].iloc[movie_indices].tolist()\n"
   ]
  },
  {
   "cell_type": "code",
   "execution_count": 27,
   "metadata": {},
   "outputs": [
    {
     "name": "stdout",
     "output_type": "stream",
     "text": [
      "['Highlander III: The Sorcerer (1994)', 'Demolition Man (1993)', 'No Escape (1994)', 'Barb Wire (1996)', 'Adrenalin: Fear the Rush (1996)', 'Fifth Element, The (1997)', 'Godzilla (1998)', 'Godzilla (Gojira) (1954)', 'Godzilla (Gojira) (1984)', 'King Kong vs. Godzilla (Kingukongu tai Gojira) (1962)', 'Star Trek: Insurrection (1998)', 'Planet of the Apes (1968)', 'Beneath the Planet of the Apes (1970)', 'Battle for the Planet of the Apes (1973)', 'Conquest of the Planet of the Apes (1972)', 'Escape from the Planet of the Apes (1971)', 'Wing Commander (1999)', 'Universal Soldier: The Return (1999)', 'Universal Soldier (1992)', 'Pitch Black (2000)', 'Battlefield Earth (2000)', 'Mad Max (1979)', 'Mad Max 2 (a.k.a. The Road Warrior) (1981)', 'Mad Max Beyond Thunderdome (1985)', 'X-Men (2000)', 'Freejack (1992)', 'Space Cowboys (2000)', 'Johnny Mnemonic (1995)', 'Nemesis 2: Nebula (1995)', 'Terminator 2: Judgment Day (1991)', 'Solo (1996)', 'Arrival, The (1996)', 'Lawnmower Man, The (1992)', 'Terminator, The (1984)', 'Face/Off (1997)', 'Lost in Space (1998)', 'Matrix, The (1999)', 'eXistenZ (1999)', 'Deep Blue Sea (1999)', 'Predator (1987)', 'Predator 2 (1990)', 'Moonraker (1979)', 'Hellraiser: Bloodline (1996)', 'Alien: Resurrection (1997)', 'Deep Rising (1998)', 'Alligator (1980)', 'Night of the Comet (1984)', 'Chopping Mall (a.k.a. Killbots) (1986)', 'Hidden, The (1987)', 'Alphaville (1965)', 'Brazil (1985)', 'Clockwork Orange, A (1971)', 'Forbidden Planet (1956)', 'Tetsuo II: Body Hammer (1992)', 'Metropolis (1926)', 'Black Hole, The (1979)', 'Meteor (1979)', 'Sticky Fingers of Time, The (1997)', 'Flying Saucer, The (1950)', 'Thing From Another World, The (1951)', 'It Came from Outer Space (1953)', 'It Came from Beneath the Sea (1955)', 'Earth Vs. the Flying Saucers (1956)', 'It Conquered the World (1956)', 'Mole People, The (1956)', 'Omega Man, The (1971)', 'Mission to Mars (2000)', 'Destination Moon (1950)', 'Devil Girl From Mars (1954)', 'Quatermass and the Pit (1967)', 'Light Years (1988)', 'Project Moon Base (1953)', 'Rocketship X-M (1950)', 'X: The Unknown (1956)', 'Kronos (1957)', 'Judge Dredd (1995)', 'Stargate (1994)', 'Star Trek: Generations (1994)', 'Jurassic Park (1993)', 'Star Trek: First Contact (1996)', 'Star Trek: The Motion Picture (1979)', 'Star Trek VI: The Undiscovered Country (1991)', 'Star Trek V: The Final Frontier (1989)', 'Star Trek: The Wrath of Khan (1982)', 'Star Trek III: The Search for Spock (1984)', 'Star Trek IV: The Voyage Home (1986)', 'Time Tracers (1995)', 'Rocketeer, The (1991)', 'Six-String Samurai (1998)', \"Logan's Run (1976)\", 'Superman (1978)', 'Superman II (1980)', 'Superman III (1983)', 'Superman IV: The Quest for Peace (1987)', 'Running Man, The (1987)', 'Godzilla 2000 (Gojira ni-sen mireniamu) (1999)', 'Deep Impact (1998)', 'Arachnophobia (1990)', 'Strange Days (1995)']\n"
     ]
    }
   ],
   "source": [
    "\n",
    "# Example usage\n",
    "print(content_recommend('X-Men (2000)'))\n"
   ]
  }
 ],
 "metadata": {
  "kernelspec": {
   "display_name": "tf_env",
   "language": "python",
   "name": "python3"
  },
  "language_info": {
   "codemirror_mode": {
    "name": "ipython",
    "version": 3
   },
   "file_extension": ".py",
   "mimetype": "text/x-python",
   "name": "python",
   "nbconvert_exporter": "python",
   "pygments_lexer": "ipython3",
   "version": "3.10.16"
  }
 },
 "nbformat": 4,
 "nbformat_minor": 2
}
